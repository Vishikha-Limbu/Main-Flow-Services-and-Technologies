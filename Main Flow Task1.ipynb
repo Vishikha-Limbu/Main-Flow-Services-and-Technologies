{
 "cells": [
  {
   "cell_type": "code",
   "execution_count": 1,
   "id": "e207ec72-0468-4650-988d-7c6b0f417cc5",
   "metadata": {},
   "outputs": [
    {
     "name": "stdout",
     "output_type": "stream",
     "text": [
      "Updated list: [8, 2, 4, 5, 6, 9]\n"
     ]
    }
   ],
   "source": [
    "#creating a list\n",
    "my_list=[1,2,3,4,5,6]\n",
    "\n",
    "#adding an element to the list\n",
    "my_list.append(9)\n",
    "\n",
    "#removing an element from the list\n",
    "my_list.remove(3)\n",
    "\n",
    "#modifying an element in the list\n",
    "my_list[0]=8\n",
    "\n",
    "print(\"Updated list:\",my_list)"
   ]
  },
  {
   "cell_type": "code",
   "execution_count": 2,
   "id": "86192ba1-33fc-4c4e-bfba-380100a3b1f5",
   "metadata": {},
   "outputs": [
    {
     "name": "stdout",
     "output_type": "stream",
     "text": [
      "Updated dictionary: {'name': 'Daphne', 'city': 'Bangalore', 'gender': 'Female'}\n"
     ]
    }
   ],
   "source": [
    "#creating dictionary\n",
    "my_dict={'name':'Daphne','age':28,'city':'Bangalore'}\n",
    "\n",
    "#adding\n",
    "my_dict['gender']='Female'\n",
    "\n",
    "#removing\n",
    "del my_dict['age']\n",
    "\n",
    "#modifying\n",
    "my_dict['city']='Bangalore'\n",
    "\n",
    "print(\"Updated dictionary:\",my_dict)\n",
    "\n"
   ]
  },
  {
   "cell_type": "code",
   "execution_count": 4,
   "id": "73bf6299-3f64-4d09-8eec-c79d10df0825",
   "metadata": {},
   "outputs": [
    {
     "name": "stdout",
     "output_type": "stream",
     "text": [
      "Updated set: {2, 4, 5, 7, 10}\n"
     ]
    }
   ],
   "source": [
    "#creating a set\n",
    "my_set={1,2,3,4,5}\n",
    "\n",
    "#adding\n",
    "my_set.add(7)\n",
    "\n",
    "#removing\n",
    "my_set.remove(3)\n",
    "\n",
    "#modifying\n",
    "my_set.discard(1)\n",
    "my_set.add(10)\n",
    "\n",
    "print(\"Updated set:\",my_set)"
   ]
  },
  {
   "cell_type": "code",
   "execution_count": null,
   "id": "354f9a2e-1bc4-4b6d-ab44-010b39ba5424",
   "metadata": {},
   "outputs": [],
   "source": []
  }
 ],
 "metadata": {
  "kernelspec": {
   "display_name": "Python 3 (ipykernel)",
   "language": "python",
   "name": "python3"
  },
  "language_info": {
   "codemirror_mode": {
    "name": "ipython",
    "version": 3
   },
   "file_extension": ".py",
   "mimetype": "text/x-python",
   "name": "python",
   "nbconvert_exporter": "python",
   "pygments_lexer": "ipython3",
   "version": "3.12.3"
  }
 },
 "nbformat": 4,
 "nbformat_minor": 5
}
